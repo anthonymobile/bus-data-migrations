{
 "cells": [
  {
   "cell_type": "raw",
   "id": "840f04cd",
   "metadata": {},
   "source": [
    "Just pull 1 month out"
   ]
  },
  {
   "cell_type": "code",
   "execution_count": 1,
   "id": "62cf14f3",
   "metadata": {},
   "outputs": [],
   "source": [
    "# https://mungingdata.com/python/writing-parquet-pandas-pyspark-koalas/"
   ]
  },
  {
   "cell_type": "code",
   "execution_count": 2,
   "id": "3ace336d",
   "metadata": {},
   "outputs": [],
   "source": [
    "infile = \"./data/in/buses_nj_thru_2022_03_28.csv\"\n",
    "outpath = \"./data/out/buses_nj_thru_2022_03_28_partitioned_csv_1mo\"\n"
   ]
  },
  {
   "cell_type": "code",
   "execution_count": 3,
   "id": "4c9c4e6e",
   "metadata": {},
   "outputs": [
    {
     "name": "stderr",
     "output_type": "stream",
     "text": [
      "Using Spark's default log4j profile: org/apache/spark/log4j-defaults.properties\n",
      "Setting default log level to \"WARN\".\n",
      "To adjust logging level use sc.setLogLevel(newLevel). For SparkR, use setLogLevel(newLevel).\n",
      "22/04/21 20:18:09 WARN NativeCodeLoader: Unable to load native-hadoop library for your platform... using builtin-java classes where applicable\n"
     ]
    }
   ],
   "source": [
    "from pyspark.sql import SparkSession\n",
    "from pyspark.sql.types import StructType, StringType, DoubleType, TimestampType, LongType\n",
    "\n",
    "spark = SparkSession.builder \\\n",
    "  .master(\"local\") \\\n",
    "  .appName(\"partioning_project\") \\\n",
    "  .config(\"spark.executor.cores\", 3) \\\n",
    "  .getOrCreate()"
   ]
  },
  {
   "cell_type": "code",
   "execution_count": 4,
   "id": "ed5328b1",
   "metadata": {},
   "outputs": [],
   "source": [
    "# # option 1, no schema\n",
    "# df = spark.read.csv(infile, header = True)\n",
    "# df.printSchema()"
   ]
  },
  {
   "cell_type": "code",
   "execution_count": 5,
   "id": "d524b583",
   "metadata": {},
   "outputs": [],
   "source": [
    "# # option 2, infer schema\n",
    "# df = spark.read.csv(infile, inferSchema = True, header = True)\n",
    "# df.printSchema()"
   ]
  },
  {
   "cell_type": "code",
   "execution_count": 6,
   "id": "90e902d3",
   "metadata": {},
   "outputs": [],
   "source": [
    "# option 3, user-defined schema\n",
    "schema = StructType() \\\n",
    "      .add(\"pkey\",StringType(),True) \\\n",
    "      .add(\"lat\",DoubleType(),True) \\\n",
    "      .add(\"lon\",DoubleType(),True) \\\n",
    "      .add(\"cars\",StringType(),True) \\\n",
    "      .add(\"consist\",StringType(),True) \\\n",
    "      .add(\"d\",StringType(),True) \\\n",
    "      .add(\"dn\",StringType(),True) \\\n",
    "      .add(\"fs\",StringType(),True) \\\n",
    "      .add(\"id\",StringType(),True) \\\n",
    "      .add(\"m\",StringType(),True) \\\n",
    "      .add(\"op\",StringType(),True) \\\n",
    "      .add(\"pd\",StringType(),True) \\\n",
    "      .add(\"pdrtpifeedname\",StringType(),True) \\\n",
    "      .add(\"pid\",StringType(),True) \\\n",
    "      .add(\"rt\",StringType(),True) \\\n",
    "      .add(\"rtrtpifeedname\",StringType(),True) \\\n",
    "      .add(\"rtdd\",StringType(),True) \\\n",
    "      .add(\"rtpifeedname\",StringType(),True) \\\n",
    "      .add(\"run\",StringType(),True) \\\n",
    "      .add(\"wid1\",StringType(),True) \\\n",
    "      .add(\"wid2\",StringType(),True) \\\n",
    "      .add(\"timestamp\",StringType(),True)\n",
    "      # .add(\"timestamp\",TimestampType(),True)\n",
    "      # Spark doesn't recognize date64 types, and no way to create user-defined type\n",
    "      # possibly a solution here we can implement after the import by mapping the timestamp column? \n",
    "      # https://arrow.apache.org/docs/python/timestamps.html\n",
    "\n",
    "\n",
    "df = spark.read.csv(infile, header = True, schema = schema)"
   ]
  },
  {
   "cell_type": "code",
   "execution_count": 7,
   "id": "00d01ca3",
   "metadata": {},
   "outputs": [],
   "source": [
    "# https://sparkbyexamples.com/spark/pyspark-to_timestamp-convert-string-to-timestamp-type/\n",
    "from pyspark.sql.functions import *\n",
    "\n",
    "#Timestamp String to DateType\n",
    "new_df = df.withColumn(\"timestamp\",to_timestamp(\"timestamp\"))"
   ]
  },
  {
   "cell_type": "code",
   "execution_count": 10,
   "id": "c2531fef",
   "metadata": {},
   "outputs": [],
   "source": [
    "from pyspark.sql.functions import col\n",
    "dates = (\"2022-02-01\",  \"2022-02-28\")\n",
    "new_df2 = new_df.where(col('timestamp').between(*dates))\n"
   ]
  },
  {
   "cell_type": "code",
   "execution_count": 12,
   "id": "0a7122d3",
   "metadata": {},
   "outputs": [
    {
     "name": "stderr",
     "output_type": "stream",
     "text": [
      "                                                                                \r"
     ]
    }
   ],
   "source": [
    "new_df2.coalesce(1).write \\\n",
    "    .mode('overwrite')\\\n",
    "    .parquet(outpath)"
   ]
  },
  {
   "cell_type": "code",
   "execution_count": null,
   "id": "e1b81e2d",
   "metadata": {},
   "outputs": [],
   "source": []
  }
 ],
 "metadata": {
  "kernelspec": {
   "display_name": "Python [conda env:bigdata]",
   "language": "python",
   "name": "conda-env-bigdata-py"
  },
  "language_info": {
   "codemirror_mode": {
    "name": "ipython",
    "version": 3
   },
   "file_extension": ".py",
   "mimetype": "text/x-python",
   "name": "python",
   "nbconvert_exporter": "python",
   "pygments_lexer": "ipython3",
   "version": "3.9.5"
  }
 },
 "nbformat": 4,
 "nbformat_minor": 5
}
