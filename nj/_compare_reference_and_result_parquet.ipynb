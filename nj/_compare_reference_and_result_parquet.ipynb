{
 "cells": [
  {
   "cell_type": "raw",
   "id": "4d3fb667",
   "metadata": {},
   "source": [
    "verify_compare_reference_and_result_parquet\n",
    "\n",
    "1. get spark session\n",
    "2. load the reference file\n",
    "3. load the parquet result file to compare structure\n",
    "df.printSchema() for both\n"
   ]
  },
  {
   "cell_type": "code",
   "execution_count": 1,
   "id": "566b0217",
   "metadata": {},
   "outputs": [],
   "source": [
    "reference_dataset=\"./data/in/njtransit_bus_single_grab_reference.parquet\""
   ]
  },
  {
   "cell_type": "code",
   "execution_count": 2,
   "id": "f265e26c",
   "metadata": {},
   "outputs": [],
   "source": [
    "compare_dataset=\"./data/out/partitioned_csv_full_1_file_per_partition\""
   ]
  },
  {
   "cell_type": "code",
   "execution_count": 3,
   "id": "23d0845f",
   "metadata": {},
   "outputs": [
    {
     "name": "stderr",
     "output_type": "stream",
     "text": [
      "Using Spark's default log4j profile: org/apache/spark/log4j-defaults.properties\n",
      "Setting default log level to \"WARN\".\n",
      "To adjust logging level use sc.setLogLevel(newLevel). For SparkR, use setLogLevel(newLevel).\n",
      "22/04/06 18:46:00 WARN NativeCodeLoader: Unable to load native-hadoop library for your platform... using builtin-java classes where applicable\n",
      "22/04/06 18:46:01 WARN Utils: Service 'SparkUI' could not bind on port 4040. Attempting port 4041.\n",
      "22/04/06 18:46:01 WARN Utils: Service 'SparkUI' could not bind on port 4041. Attempting port 4042.\n"
     ]
    }
   ],
   "source": [
    "from pyspark.sql import SparkSession\n",
    "\n",
    "spark = SparkSession.builder \\\n",
    "  .master(\"local\") \\\n",
    "  .appName(\"verify_parquet_schema\") \\\n",
    "  .config(\"spark.executor.cores\", 3) \\\n",
    "  .getOrCreate()"
   ]
  },
  {
   "cell_type": "code",
   "execution_count": 4,
   "id": "10e970d2",
   "metadata": {},
   "outputs": [],
   "source": [
    "df_reference = spark.read.parquet(reference_dataset)"
   ]
  },
  {
   "cell_type": "code",
   "execution_count": 5,
   "id": "64e17e60",
   "metadata": {},
   "outputs": [
    {
     "name": "stderr",
     "output_type": "stream",
     "text": [
      "                                                                                \r"
     ]
    }
   ],
   "source": [
    "df_compare = spark.read.parquet(compare_dataset)"
   ]
  },
  {
   "cell_type": "code",
   "execution_count": 6,
   "id": "4ccb86e2",
   "metadata": {},
   "outputs": [
    {
     "name": "stdout",
     "output_type": "stream",
     "text": [
      "root\n",
      " |-- id: string (nullable = true)\n",
      " |-- consist: string (nullable = true)\n",
      " |-- cars: string (nullable = true)\n",
      " |-- rtpiFeedName: string (nullable = true)\n",
      " |-- m: string (nullable = true)\n",
      " |-- rt: string (nullable = true)\n",
      " |-- rtRtpiFeedName: string (nullable = true)\n",
      " |-- rtdd: string (nullable = true)\n",
      " |-- c: string (nullable = true)\n",
      " |-- d: string (nullable = true)\n",
      " |-- dd: string (nullable = true)\n",
      " |-- dn: string (nullable = true)\n",
      " |-- lat: double (nullable = true)\n",
      " |-- lon: double (nullable = true)\n",
      " |-- pid: string (nullable = true)\n",
      " |-- pd: string (nullable = true)\n",
      " |-- pdRtpiFeedName: string (nullable = true)\n",
      " |-- run: string (nullable = true)\n",
      " |-- fs: string (nullable = true)\n",
      " |-- op: string (nullable = true)\n",
      " |-- bid: string (nullable = true)\n",
      " |-- wid1: string (nullable = true)\n",
      " |-- wid2: string (nullable = true)\n",
      " |-- timestamp: timestamp (nullable = true)\n",
      "\n"
     ]
    }
   ],
   "source": [
    "df_reference.printSchema()"
   ]
  },
  {
   "cell_type": "code",
   "execution_count": 7,
   "id": "35858f17",
   "metadata": {},
   "outputs": [
    {
     "name": "stdout",
     "output_type": "stream",
     "text": [
      "root\n",
      " |-- pkey: string (nullable = true)\n",
      " |-- lat: double (nullable = true)\n",
      " |-- lon: double (nullable = true)\n",
      " |-- cars: string (nullable = true)\n",
      " |-- consist: string (nullable = true)\n",
      " |-- d: string (nullable = true)\n",
      " |-- dn: string (nullable = true)\n",
      " |-- fs: string (nullable = true)\n",
      " |-- id: string (nullable = true)\n",
      " |-- m: string (nullable = true)\n",
      " |-- op: string (nullable = true)\n",
      " |-- pd: string (nullable = true)\n",
      " |-- pdrtpifeedname: string (nullable = true)\n",
      " |-- pid: string (nullable = true)\n",
      " |-- rtrtpifeedname: string (nullable = true)\n",
      " |-- rtdd: string (nullable = true)\n",
      " |-- rtpifeedname: string (nullable = true)\n",
      " |-- run: string (nullable = true)\n",
      " |-- wid1: string (nullable = true)\n",
      " |-- wid2: string (nullable = true)\n",
      " |-- timestamp: timestamp (nullable = true)\n",
      " |-- rt: integer (nullable = true)\n",
      "\n"
     ]
    }
   ],
   "source": [
    "df_compare.printSchema()"
   ]
  },
  {
   "cell_type": "code",
   "execution_count": 8,
   "id": "7c3d92c3",
   "metadata": {},
   "outputs": [],
   "source": [
    "spark.stop()"
   ]
  },
  {
   "cell_type": "code",
   "execution_count": null,
   "id": "d55163e1",
   "metadata": {},
   "outputs": [],
   "source": []
  }
 ],
 "metadata": {
  "kernelspec": {
   "display_name": "Python [conda env:bigdata]",
   "language": "python",
   "name": "conda-env-bigdata-py"
  },
  "language_info": {
   "codemirror_mode": {
    "name": "ipython",
    "version": 3
   },
   "file_extension": ".py",
   "mimetype": "text/x-python",
   "name": "python",
   "nbconvert_exporter": "python",
   "pygments_lexer": "ipython3",
   "version": "3.9.5"
  }
 },
 "nbformat": 4,
 "nbformat_minor": 5
}
