{
 "cells": [
  {
   "cell_type": "raw",
   "id": "9b965563",
   "metadata": {},
   "source": [
    "Just pull 1 month out"
   ]
  },
  {
   "cell_type": "code",
   "execution_count": 1,
   "id": "fa006d77",
   "metadata": {},
   "outputs": [],
   "source": [
    "# https://mungingdata.com/python/writing-parquet-pandas-pyspark-koalas/"
   ]
  },
  {
   "cell_type": "code",
   "execution_count": 2,
   "id": "da41b93b",
   "metadata": {},
   "outputs": [],
   "source": [
    "infile = \"./data/in/buses_nj_thru_2022_03_28.csv\"\n",
    "outpath = \"./data/out/buses_nj_thru_2022_03_28_partitioned_csv_1mo\"\n"
   ]
  },
  {
   "cell_type": "code",
   "execution_count": 3,
   "id": "19f5d864",
   "metadata": {},
   "outputs": [
    {
     "name": "stderr",
     "output_type": "stream",
     "text": [
      "Using Spark's default log4j profile: org/apache/spark/log4j-defaults.properties\n",
      "Setting default log level to \"WARN\".\n",
      "To adjust logging level use sc.setLogLevel(newLevel). For SparkR, use setLogLevel(newLevel).\n",
      "22/04/21 20:18:09 WARN NativeCodeLoader: Unable to load native-hadoop library for your platform... using builtin-java classes where applicable\n"
     ]
    }
   ],
   "source": [
    "from pyspark.sql import SparkSession\n",
    "from pyspark.sql.types import StructType, StringType, DoubleType, TimestampType, LongType\n",
    "\n",
    "spark = SparkSession.builder \\\n",
    "  .master(\"local\") \\\n",
    "  .appName(\"partioning_project\") \\\n",
    "  .config(\"spark.executor.cores\", 3) \\\n",
    "  .getOrCreate()"
   ]
  },
  {
   "cell_type": "code",
   "execution_count": 4,
   "id": "f0e76df8",
   "metadata": {},
   "outputs": [],
   "source": [
    "# # option 1, no schema\n",
    "# df = spark.read.csv(infile, header = True)\n",
    "# df.printSchema()"
   ]
  },
  {
   "cell_type": "code",
   "execution_count": 5,
   "id": "ab358fdf",
   "metadata": {},
   "outputs": [],
   "source": [
    "# # option 2, infer schema\n",
    "# df = spark.read.csv(infile, inferSchema = True, header = True)\n",
    "# df.printSchema()"
   ]
  },
  {
   "cell_type": "code",
   "execution_count": 6,
   "id": "3dc33582",
   "metadata": {},
   "outputs": [],
   "source": [
    "# option 3, user-defined schema\n",
    "schema = StructType() \\\n",
    "      .add(\"pkey\",StringType(),True) \\\n",
    "      .add(\"lat\",DoubleType(),True) \\\n",
    "      .add(\"lon\",DoubleType(),True) \\\n",
    "      .add(\"cars\",StringType(),True) \\\n",
    "      .add(\"consist\",StringType(),True) \\\n",
    "      .add(\"d\",StringType(),True) \\\n",
    "      .add(\"dn\",StringType(),True) \\\n",
    "      .add(\"fs\",StringType(),True) \\\n",
    "      .add(\"id\",StringType(),True) \\\n",
    "      .add(\"m\",StringType(),True) \\\n",
    "      .add(\"op\",StringType(),True) \\\n",
    "      .add(\"pd\",StringType(),True) \\\n",
    "      .add(\"pdrtpifeedname\",StringType(),True) \\\n",
    "      .add(\"pid\",StringType(),True) \\\n",
    "      .add(\"rt\",StringType(),True) \\\n",
    "      .add(\"rtrtpifeedname\",StringType(),True) \\\n",
    "      .add(\"rtdd\",StringType(),True) \\\n",
    "      .add(\"rtpifeedname\",StringType(),True) \\\n",
    "      .add(\"run\",StringType(),True) \\\n",
    "      .add(\"wid1\",StringType(),True) \\\n",
    "      .add(\"wid2\",StringType(),True) \\\n",
    "      .add(\"timestamp\",StringType(),True)\n",
    "      # .add(\"timestamp\",TimestampType(),True)\n",
    "      # Spark doesn't recognize date64 types, and no way to create user-defined type\n",
    "      # possibly a solution here we can implement after the import by mapping the timestamp column? \n",
    "      # https://arrow.apache.org/docs/python/timestamps.html\n",
    "\n",
    "\n",
    "df = spark.read.csv(infile, header = True, schema = schema)"
   ]
  },
  {
   "cell_type": "code",
   "execution_count": 7,
   "id": "05ca867f",
   "metadata": {},
   "outputs": [],
   "source": [
    "# https://sparkbyexamples.com/spark/pyspark-to_timestamp-convert-string-to-timestamp-type/\n",
    "from pyspark.sql.functions import *\n",
    "\n",
    "#Timestamp String to DateType\n",
    "new_df = df.withColumn(\"timestamp\",to_timestamp(\"timestamp\"))"
   ]
  },
  {
   "cell_type": "code",
   "execution_count": 10,
   "id": "9dd41d56",
   "metadata": {},
   "outputs": [],
   "source": [
    "from pyspark.sql.functions import col\n",
    "dates = (\"2022-02-01\",  \"2022-02-28\")\n",
    "new_df2 = new_df.where(col('timestamp').between(*dates))\n"
   ]
  },
  {
   "cell_type": "code",
   "execution_count": null,
   "id": "7e4c1c79",
   "metadata": {},
   "outputs": [
    {
     "name": "stderr",
     "output_type": "stream",
     "text": [
      "[Stage 6:>                                                          (0 + 1) / 1]\r"
     ]
    }
   ],
   "source": [
    "new_df2.coalesce(1).write \\\n",
    "    .mode('overwrite')\\\n",
    "    .parquet(outpath)"
   ]
  },
  {
   "cell_type": "code",
   "execution_count": null,
   "id": "a0b3f186",
   "metadata": {},
   "outputs": [],
   "source": []
  }
 ],
 "metadata": {
  "kernelspec": {
   "display_name": "Python [conda env:bigdata]",
   "language": "python",
   "name": "conda-env-bigdata-py"
  },
  "language_info": {
   "codemirror_mode": {
    "name": "ipython",
    "version": 3
   },
   "file_extension": ".py",
   "mimetype": "text/x-python",
   "name": "python",
   "nbconvert_exporter": "python",
   "pygments_lexer": "ipython3",
   "version": "3.9.5"
  }
 },
 "nbformat": 4,
 "nbformat_minor": 5
}
