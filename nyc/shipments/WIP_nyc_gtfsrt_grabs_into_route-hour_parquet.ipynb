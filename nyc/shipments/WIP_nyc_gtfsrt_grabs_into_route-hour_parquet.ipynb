{
 "cells": [
  {
   "cell_type": "markdown",
   "id": "bfe2345a",
   "metadata": {},
   "source": [
    "## NYC buswatcher Steve Bauman Sept/Oct 2020\n"
   ]
  },
  {
   "cell_type": "raw",
   "id": "1a84ee1d",
   "metadata": {},
   "source": [
    "data / in \n",
    "https://s3.console.aws.amazon.com/s3/buckets/bus-observatory?region=us-east-2&prefix=incoming/bauman_nyc_buses/&showversions=false"
   ]
  },
  {
   "cell_type": "raw",
   "id": "0302a678",
   "metadata": {},
   "source": [
    "Data / out\n",
    "Write each route-hour into a single parquet file.\n"
   ]
  },
  {
   "cell_type": "code",
   "execution_count": null,
   "id": "e5140263",
   "metadata": {},
   "outputs": [],
   "source": []
  }
 ],
 "metadata": {
  "kernelspec": {
   "display_name": "Python [conda env:bigdata]",
   "language": "python",
   "name": "conda-env-bigdata-py"
  },
  "language_info": {
   "codemirror_mode": {
    "name": "ipython",
    "version": 3
   },
   "file_extension": ".py",
   "mimetype": "text/x-python",
   "name": "python",
   "nbconvert_exporter": "python",
   "pygments_lexer": "ipython3",
   "version": "3.9.5"
  }
 },
 "nbformat": 4,
 "nbformat_minor": 5
}
