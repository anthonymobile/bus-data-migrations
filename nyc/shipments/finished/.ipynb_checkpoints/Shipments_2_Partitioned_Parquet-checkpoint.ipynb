{
 "cells": [
  {
   "cell_type": "markdown",
   "id": "c031e084",
   "metadata": {},
   "source": [
    "# NYCbuswatcher Shipment --> Data Lake Migration"
   ]
  },
  {
   "cell_type": "markdown",
   "id": "3b3ce825",
   "metadata": {},
   "source": [
    "### Step 1. Convert each JSON in \"shipment_folder\" to a single parquet file. "
   ]
  },
  {
   "cell_type": "code",
   "execution_count": 1,
   "id": "9179792a",
   "metadata": {},
   "outputs": [],
   "source": [
    "import os, json\n",
    "import pandas as pd\n",
    "import numpy as np"
   ]
  },
  {
   "cell_type": "code",
   "execution_count": 2,
   "id": "e6b7756c",
   "metadata": {},
   "outputs": [],
   "source": [
    "shipment_folder=\"/Volumes/nice/bigdata/bus_depot/bus-data-migrations/nyc/data/in/nyc_shipments/2022/2/2\""
   ]
  },
  {
   "cell_type": "code",
   "execution_count": 3,
   "id": "53125a19",
   "metadata": {},
   "outputs": [
    {
     "data": {
      "text/plain": [
       "5832"
      ]
     },
     "execution_count": 3,
     "metadata": {},
     "output_type": "execute_result"
    }
   ],
   "source": [
    "# get list of shipment filenames\n",
    "\n",
    "shipment_list = []\n",
    "for root, _, filenames in os.walk(shipment_folder):   \n",
    "    for filename in filenames:\n",
    "        shipment_list.append(os.path.join(root, filename))\n",
    "len(shipment_list)"
   ]
  },
  {
   "cell_type": "code",
   "execution_count": 4,
   "id": "0f3224d0",
   "metadata": {},
   "outputs": [
    {
     "data": {
      "text/plain": [
       "'/Volumes/nice/bigdata/bus_depot/bus-data-migrations/nyc/data/in/nyc_shipments/2022/2/2/0/BX16/shipment_2022-2-2-0-BX16.json'"
      ]
     },
     "execution_count": 4,
     "metadata": {},
     "output_type": "execute_result"
    }
   ],
   "source": [
    "shipment_list[0]"
   ]
  },
  {
   "cell_type": "code",
   "execution_count": 5,
   "id": "26547376",
   "metadata": {},
   "outputs": [
    {
     "ename": "SyntaxError",
     "evalue": "invalid syntax (3121203683.py, line 27)",
     "output_type": "error",
     "traceback": [
      "\u001b[0;36m  File \u001b[0;32m\"/var/folders/v_/d7d6w88x3t716sh3x9pyjd600000gn/T/ipykernel_83775/3121203683.py\"\u001b[0;36m, line \u001b[0;32m27\u001b[0m\n\u001b[0;31m    else:\u001b[0m\n\u001b[0m    ^\u001b[0m\n\u001b[0;31mSyntaxError\u001b[0m\u001b[0;31m:\u001b[0m invalid syntax\n"
     ]
    }
   ],
   "source": [
    "# iterate over file list and write each JSON as a single parquet file with pyarrow\n",
    "\n",
    "out_path=\"/Volumes/nice/bigdata/bus_depot/bus-data-migrations/nyc/data/out/nyc_shipments_as_parquets/\"\n",
    "os.makedirs(out_path, exist_ok=False)\n",
    "\n",
    "from pyspark.sql.types import IntegerType\n",
    "\n",
    "# not sure why this is so hard, but need to ensure every file has the same schema\n",
    "def df_clean(df): \n",
    "    df[\"passenger_count\"] = pd.to_numeric(df[\"passenger_count\"],errors='coerce')\n",
    "    if df.dtypes['passenger_count'] != \"float64\":\n",
    "        df['passenger_count'] = df['passenger_count'].astype(dtype = 'float64')\n",
    "    if df.dtypes['bearing'] != \"float64\":\n",
    "        df['bearing'] = df['bearing'].astype(dtype = 'float64')\n",
    "    if df.dtypes['next_stop_d_along_route'] != \"float64\":\n",
    "        df['next_stop_d_along_route'] = df['next_stop_d_along_route'].astype(dtype = 'float64')\n",
    "    if df.dtypes['next_stop_d'] != \"float64\":\n",
    "        df['next_stop_d'] = df['next_stop_d'].astype(dtype = 'float64')   \n",
    "    return df\n",
    "\n",
    "\n",
    "for shipment in shipment_list:\n",
    "    with open(shipment) as data_file:    \n",
    "        data = json.load(data_file)\n",
    "        try:\n",
    "            df = pd.json_normalize(data, 'buses').convert_dtypes()\n",
    "        except:\n",
    "            pass\n",
    "        df = df_clean(df)\n",
    "        out_file=out_path+shipment.split('/')[-1].split('.')[0]+\".parquet\"\n",
    "        df.to_parquet(out_file, engine=\"fastparquet\")\n"
   ]
  },
  {
   "cell_type": "markdown",
   "id": "5f8e3e50",
   "metadata": {},
   "source": [
    "### Step 2. Read all the parquets and repartition by route-hour using Pyspark"
   ]
  },
  {
   "cell_type": "code",
   "execution_count": null,
   "id": "732d2a99",
   "metadata": {},
   "outputs": [],
   "source": [
    "import os, json\n",
    "import pandas as pd"
   ]
  },
  {
   "cell_type": "raw",
   "id": "06da0afd",
   "metadata": {},
   "source": [
    "Start spark"
   ]
  },
  {
   "cell_type": "code",
   "execution_count": null,
   "id": "df2a9ce5",
   "metadata": {},
   "outputs": [],
   "source": [
    "from pyspark.sql import SparkSession\n",
    "from pyspark.sql.types import StructType, StringType, DoubleType, TimestampType, LongType\n",
    "\n",
    "spark = SparkSession.builder \\\n",
    "  .master(\"local\") \\\n",
    "  .appName(\"nyc_reparition_individual_parquets_by_route_hour_1\") \\\n",
    "  .config(\"spark.executor.cores\", 3) \\\n",
    "  .getOrCreate()"
   ]
  },
  {
   "cell_type": "code",
   "execution_count": null,
   "id": "2692c892",
   "metadata": {},
   "outputs": [],
   "source": [
    "spark.conf.set(\"spark.sql.debug.maxToStringFields\", 1000)"
   ]
  },
  {
   "cell_type": "raw",
   "id": "4d64d1f0",
   "metadata": {},
   "source": [
    "Load all the parquets"
   ]
  },
  {
   "cell_type": "code",
   "execution_count": null,
   "id": "5136b220",
   "metadata": {},
   "outputs": [],
   "source": [
    "# Load all the parquets\n",
    "in_path=\"/Volumes/nice/bigdata/bus_depot/bus-data-migrations/nyc/data/out/nyc_shipments_as_parquets/\"\n",
    "\n",
    "df = spark.read.parquet(in_path)\n",
    "print((df.count(), len(df.columns)))"
   ]
  },
  {
   "cell_type": "code",
   "execution_count": null,
   "id": "93bfcb38",
   "metadata": {},
   "outputs": [],
   "source": [
    "# df.printSchema()"
   ]
  },
  {
   "cell_type": "code",
   "execution_count": null,
   "id": "bd6cb3bb",
   "metadata": {},
   "outputs": [],
   "source": [
    "# Fix timestamp type\n",
    "# https://sparkbyexamples.com/spark/pyspark-to_timestamp-convert-string-to-timestamp-type/\n",
    "from pyspark.sql.functions import *\n",
    "\n",
    "#Timestamp String to DateType\n",
    "new_df = df.withColumn(\"timestamp\",to_timestamp(\"timestamp\"))\n",
    "new_df.printSchema()"
   ]
  },
  {
   "cell_type": "code",
   "execution_count": null,
   "id": "72b63df0",
   "metadata": {},
   "outputs": [],
   "source": [
    "out_path=\"/Volumes/nice/bigdata/bus_depot/bus-data-migrations/nyc/data/out/nyc_shipments_as_parquets_partitioned/\"\n",
    "os.makedirs(out_path, exist_ok=False)"
   ]
  },
  {
   "cell_type": "code",
   "execution_count": null,
   "id": "39447d9b",
   "metadata": {},
   "outputs": [],
   "source": [
    "# Save, adding date/hour columns on the fly for partitioning\n",
    "# https://stackoverflow.com/questions/52527888/spark-partition-data-writing-by-timestamp/52528333#52528333\n",
    "    \n",
    "new_df \\\n",
    "    .withColumn(\"year\", year(col(\"timestamp\"))) \\\n",
    "    .withColumn(\"month\", month(col(\"timestamp\"))) \\\n",
    "    .withColumn(\"day\", dayofmonth(col(\"timestamp\"))) \\\n",
    "    .withColumn(\"hour\", hour(col(\"timestamp\"))) \\\n",
    "    .repartition(\"year\", \"month\", \"day\", \"hour\") \\\n",
    "    .write \\\n",
    "    .mode('overwrite')\\\n",
    "    .partitionBy(\"year\", \"month\", \"day\", \"hour\",\"route_short\") \\\n",
    "    .parquet(out_path)"
   ]
  }
 ],
 "metadata": {
  "kernelspec": {
   "display_name": "Python [conda env:bigdata]",
   "language": "python",
   "name": "conda-env-bigdata-py"
  },
  "language_info": {
   "codemirror_mode": {
    "name": "ipython",
    "version": 3
   },
   "file_extension": ".py",
   "mimetype": "text/x-python",
   "name": "python",
   "nbconvert_exporter": "python",
   "pygments_lexer": "ipython3",
   "version": "3.9.5"
  }
 },
 "nbformat": 4,
 "nbformat_minor": 5
}
