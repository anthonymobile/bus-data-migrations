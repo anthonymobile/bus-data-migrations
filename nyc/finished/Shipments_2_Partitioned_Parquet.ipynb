{
 "cells": [
  {
   "cell_type": "markdown",
   "id": "6cf5da55",
   "metadata": {},
   "source": [
    "# NYCbuswatcher Shipment --> Data Lake Migration"
   ]
  },
  {
   "cell_type": "markdown",
   "id": "5fcd451a",
   "metadata": {},
   "source": [
    "### Step 1. Convert each JSON in \"shipment_folder\" to a single parquet file. "
   ]
  },
  {
   "cell_type": "code",
   "execution_count": 1,
   "id": "e40c4cfb",
   "metadata": {},
   "outputs": [],
   "source": [
    "import os, json\n",
    "import pandas as pd\n",
    "import numpy as np"
   ]
  },
  {
   "cell_type": "code",
   "execution_count": 2,
   "id": "52dbcd00",
   "metadata": {},
   "outputs": [],
   "source": [
    "shipment_folder=\"/Volumes/nice/bigdata/bus_depot/bus-data-migrations/nyc/data/in/nyc_shipments/2022/2/2\""
   ]
  },
  {
   "cell_type": "code",
   "execution_count": 3,
   "id": "e4b32232",
   "metadata": {},
   "outputs": [
    {
     "data": {
      "text/plain": [
       "5832"
      ]
     },
     "execution_count": 3,
     "metadata": {},
     "output_type": "execute_result"
    }
   ],
   "source": [
    "# get list of shipment filenames\n",
    "\n",
    "shipment_list = []\n",
    "for root, _, filenames in os.walk(shipment_folder):   \n",
    "    for filename in filenames:\n",
    "        shipment_list.append(os.path.join(root, filename))\n",
    "len(shipment_list)"
   ]
  },
  {
   "cell_type": "code",
   "execution_count": 4,
   "id": "108a7e61",
   "metadata": {},
   "outputs": [
    {
     "data": {
      "text/plain": [
       "'/Volumes/nice/bigdata/bus_depot/bus-data-migrations/nyc/data/in/nyc_shipments/2022/2/2/0/BX16/shipment_2022-2-2-0-BX16.json'"
      ]
     },
     "execution_count": 4,
     "metadata": {},
     "output_type": "execute_result"
    }
   ],
   "source": [
    "shipment_list[0]"
   ]
  },
  {
   "cell_type": "code",
   "execution_count": 5,
   "id": "8ffbb7b2",
   "metadata": {},
   "outputs": [],
   "source": [
    "# iterate over file list and write each JSON as a single parquet file with pyarrow\n",
    "\n",
    "out_path=\"/Volumes/nice/bigdata/bus_depot/bus-data-migrations/nyc/data/out/nyc_shipments_as_parquets/\"\n",
    "os.makedirs(out_path, exist_ok=False)\n",
    "\n",
    "from pyspark.sql.types import IntegerType\n",
    "\n",
    "# not sure why this is so hard, but need to ensure every file has the same schema\n",
    "def df_clean(df): \n",
    "    df[\"passenger_count\"] = pd.to_numeric(df[\"passenger_count\"],errors='coerce')\n",
    "    if df.dtypes['passenger_count'] != \"float64\":\n",
    "        df['passenger_count'] = df['passenger_count'].astype(dtype = 'float64')\n",
    "    if df.dtypes['bearing'] != \"float64\":\n",
    "        df['bearing'] = df['bearing'].astype(dtype = 'float64')\n",
    "    if df.dtypes['next_stop_d_along_route'] != \"float64\":\n",
    "        df['next_stop_d_along_route'] = df['next_stop_d_along_route'].astype(dtype = 'float64')\n",
    "    if df.dtypes['next_stop_d'] != \"float64\":\n",
    "        df['next_stop_d'] = df['next_stop_d'].astype(dtype = 'float64')   \n",
    "    return df\n",
    "\n",
    "\n",
    "for shipment in shipment_list:\n",
    "    with open(shipment) as data_file:    \n",
    "        data = json.load(data_file)\n",
    "        try:\n",
    "            df = pd.json_normalize(data, 'buses').convert_dtypes()\n",
    "        except:\n",
    "            pass\n",
    "        df = df_clean(df)\n",
    "        out_file=out_path+shipment.split('/')[-1].split('.')[0]+\".parquet\"\n",
    "        df.to_parquet(out_file, engine=\"fastparquet\")\n"
   ]
  },
  {
   "cell_type": "markdown",
   "id": "b79a4ed2",
   "metadata": {},
   "source": [
    "### Step 2. Read all the parquets and repartition by route-hour using Pyspark"
   ]
  },
  {
   "cell_type": "code",
   "execution_count": 6,
   "id": "e753fbbd",
   "metadata": {},
   "outputs": [],
   "source": [
    "import os, json\n",
    "import pandas as pd"
   ]
  },
  {
   "cell_type": "raw",
   "id": "202a747c",
   "metadata": {},
   "source": [
    "Start spark"
   ]
  },
  {
   "cell_type": "code",
   "execution_count": 7,
   "id": "1b9a0140",
   "metadata": {},
   "outputs": [
    {
     "name": "stderr",
     "output_type": "stream",
     "text": [
      "Using Spark's default log4j profile: org/apache/spark/log4j-defaults.properties\n",
      "Setting default log level to \"WARN\".\n",
      "To adjust logging level use sc.setLogLevel(newLevel). For SparkR, use setLogLevel(newLevel).\n",
      "22/04/22 20:33:18 WARN NativeCodeLoader: Unable to load native-hadoop library for your platform... using builtin-java classes where applicable\n"
     ]
    }
   ],
   "source": [
    "from pyspark.sql import SparkSession\n",
    "from pyspark.sql.types import StructType, StringType, DoubleType, TimestampType, LongType\n",
    "\n",
    "spark = SparkSession.builder \\\n",
    "  .master(\"local\") \\\n",
    "  .appName(\"nyc_reparition_individual_parquets_by_route_hour_1\") \\\n",
    "  .config(\"spark.executor.cores\", 3) \\\n",
    "  .getOrCreate()"
   ]
  },
  {
   "cell_type": "code",
   "execution_count": 8,
   "id": "3fe064a3",
   "metadata": {},
   "outputs": [],
   "source": [
    "spark.conf.set(\"spark.sql.debug.maxToStringFields\", 1000)"
   ]
  },
  {
   "cell_type": "raw",
   "id": "f61faeb3",
   "metadata": {},
   "source": [
    "Load all the parquets"
   ]
  },
  {
   "cell_type": "code",
   "execution_count": 9,
   "id": "83971cb4",
   "metadata": {},
   "outputs": [
    {
     "name": "stderr",
     "output_type": "stream",
     "text": [
      "[Stage 1:====================================================>  (175 + 1) / 183]\r"
     ]
    },
    {
     "name": "stdout",
     "output_type": "stream",
     "text": [
      "(2442497, 23)\n"
     ]
    },
    {
     "name": "stderr",
     "output_type": "stream",
     "text": [
      "                                                                                \r"
     ]
    }
   ],
   "source": [
    "# Load all the parquets\n",
    "in_path=\"/Volumes/nice/bigdata/bus_depot/bus-data-migrations/nyc/data/out/nyc_shipments_as_parquets/\"\n",
    "\n",
    "df = spark.read.parquet(in_path)\n",
    "print((df.count(), len(df.columns)))"
   ]
  },
  {
   "cell_type": "code",
   "execution_count": 10,
   "id": "6375dabd",
   "metadata": {},
   "outputs": [],
   "source": [
    "# df.printSchema()"
   ]
  },
  {
   "cell_type": "code",
   "execution_count": 11,
   "id": "27b80c9c",
   "metadata": {},
   "outputs": [
    {
     "name": "stdout",
     "output_type": "stream",
     "text": [
      "root\n",
      " |-- route: string (nullable = true)\n",
      " |-- timestamp: timestamp (nullable = true)\n",
      " |-- route_long: string (nullable = true)\n",
      " |-- direction: string (nullable = true)\n",
      " |-- service_date: string (nullable = true)\n",
      " |-- trip_id: string (nullable = true)\n",
      " |-- gtfs_shape_id: string (nullable = true)\n",
      " |-- route_short: string (nullable = true)\n",
      " |-- agency: string (nullable = true)\n",
      " |-- origin_id: string (nullable = true)\n",
      " |-- destination_name: string (nullable = true)\n",
      " |-- lat: double (nullable = true)\n",
      " |-- lon: double (nullable = true)\n",
      " |-- bearing: double (nullable = true)\n",
      " |-- progress_rate: string (nullable = true)\n",
      " |-- progress_status: string (nullable = true)\n",
      " |-- vehicle_id: string (nullable = true)\n",
      " |-- passenger_count: double (nullable = true)\n",
      " |-- next_stop_id: string (nullable = true)\n",
      " |-- next_stop_eta: string (nullable = true)\n",
      " |-- next_stop_d_along_route: double (nullable = true)\n",
      " |-- next_stop_d: double (nullable = true)\n",
      " |-- gtfs_block_id: string (nullable = true)\n",
      "\n"
     ]
    }
   ],
   "source": [
    "# Fix timestamp type\n",
    "# https://sparkbyexamples.com/spark/pyspark-to_timestamp-convert-string-to-timestamp-type/\n",
    "from pyspark.sql.functions import *\n",
    "\n",
    "#Timestamp String to DateType\n",
    "new_df = df.withColumn(\"timestamp\",to_timestamp(\"timestamp\"))\n",
    "new_df.printSchema()"
   ]
  },
  {
   "cell_type": "code",
   "execution_count": 12,
   "id": "351c0db8",
   "metadata": {},
   "outputs": [],
   "source": [
    "out_path=\"/Volumes/nice/bigdata/bus_depot/bus-data-migrations/nyc/data/out/nyc_shipments_as_parquets_partitioned/\"\n",
    "os.makedirs(out_path, exist_ok=False)"
   ]
  },
  {
   "cell_type": "code",
   "execution_count": 13,
   "id": "0691c456",
   "metadata": {},
   "outputs": [
    {
     "name": "stderr",
     "output_type": "stream",
     "text": [
      "                                                                                \r"
     ]
    }
   ],
   "source": [
    "# Save, adding date/hour columns on the fly for partitioning\n",
    "# https://stackoverflow.com/questions/52527888/spark-partition-data-writing-by-timestamp/52528333#52528333\n",
    "    \n",
    "new_df \\\n",
    "    .withColumn(\"year\", year(col(\"timestamp\"))) \\\n",
    "    .withColumn(\"month\", month(col(\"timestamp\"))) \\\n",
    "    .withColumn(\"day\", dayofmonth(col(\"timestamp\"))) \\\n",
    "    .withColumn(\"hour\", hour(col(\"timestamp\"))) \\\n",
    "    .repartition(\"year\", \"month\", \"day\", \"hour\") \\\n",
    "    .write \\\n",
    "    .mode('overwrite')\\\n",
    "    .partitionBy(\"year\", \"month\", \"day\", \"hour\",\"route_short\") \\\n",
    "    .parquet(out_path)"
   ]
  }
 ],
 "metadata": {
  "kernelspec": {
   "display_name": "Python [conda env:bigdata]",
   "language": "python",
   "name": "conda-env-bigdata-py"
  },
  "language_info": {
   "codemirror_mode": {
    "name": "ipython",
    "version": 3
   },
   "file_extension": ".py",
   "mimetype": "text/x-python",
   "name": "python",
   "nbconvert_exporter": "python",
   "pygments_lexer": "ipython3",
   "version": "3.9.5"
  }
 },
 "nbformat": 4,
 "nbformat_minor": 5
}
