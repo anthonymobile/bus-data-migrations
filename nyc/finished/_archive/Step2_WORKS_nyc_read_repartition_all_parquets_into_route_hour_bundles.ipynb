{
 "cells": [
  {
   "cell_type": "markdown",
   "id": "cce71d0f",
   "metadata": {},
   "source": [
    "## NYCbuswatcher\n",
    "#### Step 2. Read all the parquets and repartition by route-hour using Pyspark"
   ]
  },
  {
   "cell_type": "raw",
   "id": "5001528d",
   "metadata": {},
   "source": [
    "This notebook will iterate over all the shipments in \"shipment_folder\" and convert each JSON to a single parquet file."
   ]
  },
  {
   "cell_type": "code",
   "execution_count": 1,
   "id": "baeef503",
   "metadata": {},
   "outputs": [],
   "source": [
    "import os, json\n",
    "import pandas as pd"
   ]
  },
  {
   "cell_type": "raw",
   "id": "e9e6f50c",
   "metadata": {},
   "source": [
    "Start spark"
   ]
  },
  {
   "cell_type": "code",
   "execution_count": 2,
   "id": "98d1ea33",
   "metadata": {},
   "outputs": [
    {
     "name": "stderr",
     "output_type": "stream",
     "text": [
      "Using Spark's default log4j profile: org/apache/spark/log4j-defaults.properties\n",
      "Setting default log level to \"WARN\".\n",
      "To adjust logging level use sc.setLogLevel(newLevel). For SparkR, use setLogLevel(newLevel).\n",
      "22/04/15 12:56:45 WARN NativeCodeLoader: Unable to load native-hadoop library for your platform... using builtin-java classes where applicable\n"
     ]
    }
   ],
   "source": [
    "from pyspark.sql import SparkSession\n",
    "from pyspark.sql.types import StructType, StringType, DoubleType, TimestampType, LongType\n",
    "\n",
    "spark = SparkSession.builder \\\n",
    "  .master(\"local\") \\\n",
    "  .appName(\"nyc_reparition_individual_parquets_by_route_hour_1\") \\\n",
    "  .config(\"spark.executor.cores\", 3) \\\n",
    "  .getOrCreate()"
   ]
  },
  {
   "cell_type": "code",
   "execution_count": 8,
   "id": "57c5983e",
   "metadata": {},
   "outputs": [],
   "source": [
    "spark.conf.set(\"spark.sql.debug.maxToStringFields\", 1000)"
   ]
  },
  {
   "cell_type": "raw",
   "id": "d81ee3f1",
   "metadata": {},
   "source": [
    "Load all the parquets"
   ]
  },
  {
   "cell_type": "code",
   "execution_count": 3,
   "id": "7fb799ad",
   "metadata": {},
   "outputs": [
    {
     "name": "stderr",
     "output_type": "stream",
     "text": [
      "[Stage 1:===================================================>   (172 + 1) / 183]\r"
     ]
    },
    {
     "name": "stdout",
     "output_type": "stream",
     "text": [
      "(2442497, 23)\n"
     ]
    },
    {
     "name": "stderr",
     "output_type": "stream",
     "text": [
      "                                                                                \r"
     ]
    }
   ],
   "source": [
    "in_path=\"/Volumes/nice/bigdata/bus_depot/bus-data-migrations/nyc/data/out/nyc_shipments_as_parquets/\"\n",
    "\n",
    "df = spark.read.parquet(in_path)\n",
    "print((df.count(), len(df.columns)))"
   ]
  },
  {
   "cell_type": "code",
   "execution_count": 4,
   "id": "e6e928c5",
   "metadata": {},
   "outputs": [
    {
     "name": "stdout",
     "output_type": "stream",
     "text": [
      "root\n",
      " |-- route: string (nullable = true)\n",
      " |-- timestamp: string (nullable = true)\n",
      " |-- route_long: string (nullable = true)\n",
      " |-- direction: string (nullable = true)\n",
      " |-- service_date: string (nullable = true)\n",
      " |-- trip_id: string (nullable = true)\n",
      " |-- gtfs_shape_id: string (nullable = true)\n",
      " |-- route_short: string (nullable = true)\n",
      " |-- agency: string (nullable = true)\n",
      " |-- origin_id: string (nullable = true)\n",
      " |-- destination_name: string (nullable = true)\n",
      " |-- lat: double (nullable = true)\n",
      " |-- lon: double (nullable = true)\n",
      " |-- bearing: double (nullable = true)\n",
      " |-- progress_rate: string (nullable = true)\n",
      " |-- progress_status: string (nullable = true)\n",
      " |-- vehicle_id: string (nullable = true)\n",
      " |-- passenger_count: double (nullable = true)\n",
      " |-- next_stop_id: string (nullable = true)\n",
      " |-- next_stop_eta: string (nullable = true)\n",
      " |-- next_stop_d_along_route: double (nullable = true)\n",
      " |-- next_stop_d: double (nullable = true)\n",
      " |-- gtfs_block_id: string (nullable = true)\n",
      "\n"
     ]
    }
   ],
   "source": [
    "df.printSchema()"
   ]
  },
  {
   "cell_type": "raw",
   "id": "94a180d2",
   "metadata": {},
   "source": [
    "Fix timestamp type"
   ]
  },
  {
   "cell_type": "code",
   "execution_count": 5,
   "id": "ea9aa3ef",
   "metadata": {},
   "outputs": [
    {
     "name": "stdout",
     "output_type": "stream",
     "text": [
      "root\n",
      " |-- route: string (nullable = true)\n",
      " |-- timestamp: timestamp (nullable = true)\n",
      " |-- route_long: string (nullable = true)\n",
      " |-- direction: string (nullable = true)\n",
      " |-- service_date: string (nullable = true)\n",
      " |-- trip_id: string (nullable = true)\n",
      " |-- gtfs_shape_id: string (nullable = true)\n",
      " |-- route_short: string (nullable = true)\n",
      " |-- agency: string (nullable = true)\n",
      " |-- origin_id: string (nullable = true)\n",
      " |-- destination_name: string (nullable = true)\n",
      " |-- lat: double (nullable = true)\n",
      " |-- lon: double (nullable = true)\n",
      " |-- bearing: double (nullable = true)\n",
      " |-- progress_rate: string (nullable = true)\n",
      " |-- progress_status: string (nullable = true)\n",
      " |-- vehicle_id: string (nullable = true)\n",
      " |-- passenger_count: double (nullable = true)\n",
      " |-- next_stop_id: string (nullable = true)\n",
      " |-- next_stop_eta: string (nullable = true)\n",
      " |-- next_stop_d_along_route: double (nullable = true)\n",
      " |-- next_stop_d: double (nullable = true)\n",
      " |-- gtfs_block_id: string (nullable = true)\n",
      "\n"
     ]
    }
   ],
   "source": [
    "# https://sparkbyexamples.com/spark/pyspark-to_timestamp-convert-string-to-timestamp-type/\n",
    "from pyspark.sql.functions import *\n",
    "\n",
    "#Timestamp String to DateType\n",
    "new_df = df.withColumn(\"timestamp\",to_timestamp(\"timestamp\"))\n",
    "new_df.printSchema()"
   ]
  },
  {
   "cell_type": "raw",
   "id": "bd12ddf1",
   "metadata": {},
   "source": [
    "Save, adding date/hour columns for partitioning"
   ]
  },
  {
   "cell_type": "code",
   "execution_count": 6,
   "id": "a5149b65",
   "metadata": {},
   "outputs": [],
   "source": [
    "out_path=\"/Volumes/nice/bigdata/bus_depot/bus-data-migrations/nyc/data/out/nyc_shipments_as_parquets_partitioned/\"\n",
    "os.makedirs(out_path, exist_ok=False)"
   ]
  },
  {
   "cell_type": "code",
   "execution_count": 7,
   "id": "c769c482",
   "metadata": {},
   "outputs": [
    {
     "name": "stderr",
     "output_type": "stream",
     "text": [
      "22/04/15 12:56:55 WARN package: Truncated the string representation of a plan since it was too large. This behavior can be adjusted by setting 'spark.sql.debug.maxToStringFields'.\n",
      "                                                                                \r"
     ]
    }
   ],
   "source": [
    "# https://stackoverflow.com/questions/52527888/spark-partition-data-writing-by-timestamp/52528333#52528333\n",
    "    \n",
    "new_df \\\n",
    "    .withColumn(\"year\", year(col(\"timestamp\"))) \\\n",
    "    .withColumn(\"month\", month(col(\"timestamp\"))) \\\n",
    "    .withColumn(\"day\", dayofmonth(col(\"timestamp\"))) \\\n",
    "    .withColumn(\"hour\", hour(col(\"timestamp\"))) \\\n",
    "    .repartition(\"year\", \"month\", \"day\", \"hour\") \\\n",
    "    .write \\\n",
    "    .mode('overwrite')\\\n",
    "    .partitionBy(\"year\", \"month\", \"day\", \"hour\",\"route_short\") \\\n",
    "    .parquet(out_path)"
   ]
  }
 ],
 "metadata": {
  "kernelspec": {
   "display_name": "Python [conda env:bigdata]",
   "language": "python",
   "name": "conda-env-bigdata-py"
  },
  "language_info": {
   "codemirror_mode": {
    "name": "ipython",
    "version": 3
   },
   "file_extension": ".py",
   "mimetype": "text/x-python",
   "name": "python",
   "nbconvert_exporter": "python",
   "pygments_lexer": "ipython3",
   "version": "3.9.5"
  }
 },
 "nbformat": 4,
 "nbformat_minor": 5
}
